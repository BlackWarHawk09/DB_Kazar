{
 "cells": [
  {
   "cell_type": "markdown",
   "metadata": {},
   "source": [
    "Осуществим подключение к бд"
   ]
  },
  {
   "cell_type": "code",
   "execution_count": 21,
   "metadata": {},
   "outputs": [
    {
     "name": "stdout",
     "output_type": "stream",
     "text": [
      "The sql extension is already loaded. To reload it, use:\n",
      "  %reload_ext sql\n"
     ]
    },
    {
     "data": {
      "text/plain": [
       "'Connected: @lab_2.db'"
      ]
     },
     "execution_count": 21,
     "metadata": {},
     "output_type": "execute_result"
    }
   ],
   "source": [
    "%load_ext sql\n",
    "%sql sqlite:///lab_2.db"
   ]
  },
  {
   "cell_type": "code",
   "execution_count": null,
   "metadata": {
    "collapsed": true
   },
   "outputs": [],
   "source": [
    "Создадим таблицу студентов, групп, городов и факультетов"
   ]
  },
  {
   "cell_type": "code",
   "execution_count": 30,
   "metadata": {},
   "outputs": [
    {
     "name": "stdout",
     "output_type": "stream",
     "text": [
      " * sqlite:///lab_2.db\n",
      "Done.\n",
      "Done.\n",
      "Done.\n",
      "Done.\n",
      "Done.\n",
      "Done.\n",
      "Done.\n",
      "Done.\n"
     ]
    },
    {
     "data": {
      "text/plain": [
       "[]"
      ]
     },
     "execution_count": 30,
     "metadata": {},
     "output_type": "execute_result"
    }
   ],
   "source": [
    "%%sql \n",
    "drop table if exists Students;\n",
    "\n",
    "CREATE TABLE Students \n",
    "(\n",
    "    student_id integer primary key, \n",
    "    Name varchar(50),\n",
    "    SecondName varchar(50), \n",
    "    Faculty_id integer,\n",
    "    city_id integer,\n",
    "    group_id integer\n",
    "    GPA number\n",
    ");\n",
    "\n",
    "drop table if exists Faculties;\n",
    "CREATE TABLE Faculties\n",
    "(\n",
    "id integer primary key,\n",
    "name varchar(50)\n",
    ");\n",
    "\n",
    "drop table if exists Groups; \n",
    "Create table Groups\n",
    "(\n",
    "id integer primary key,\n",
    "name varchar(50)\n",
    ");\n",
    "\n",
    "drop table if exists Cities; \n",
    "Create table Cities\n",
    "(\n",
    "id integer primary key,\n",
    "name varchar(50)\n",
    ");\n",
    "\n"
   ]
  },
  {
   "cell_type": "markdown",
   "metadata": {},
   "source": [
    "## Задание 1 \n",
    "Перепишите создание таблиц с учетом наличия внешних ключей"
   ]
  },
  {
   "cell_type": "code",
   "execution_count": 31,
   "metadata": {},
   "outputs": [
    {
     "name": "stdout",
     "output_type": "stream",
     "text": [
      " * sqlite:///lab_2.db\n",
      "Done.\n"
     ]
    },
    {
     "data": {
      "text/plain": [
       "[]"
      ]
     },
     "execution_count": 31,
     "metadata": {},
     "output_type": "execute_result"
    }
   ],
   "source": [
    "%%sql\n",
    "PRAGMA foreign_keys = ON"
   ]
  },
  {
   "cell_type": "code",
   "execution_count": 32,
   "metadata": {},
   "outputs": [
    {
     "name": "stdout",
     "output_type": "stream",
     "text": [
      " * sqlite:///lab_2.db\n",
      "Done.\n",
      "Done.\n",
      "Done.\n",
      "Done.\n",
      "Done.\n",
      "Done.\n",
      "Done.\n",
      "Done.\n"
     ]
    },
    {
     "data": {
      "text/plain": [
       "[]"
      ]
     },
     "execution_count": 32,
     "metadata": {},
     "output_type": "execute_result"
    }
   ],
   "source": [
    "%%sql \n",
    "\n",
    "drop table if exists Students;\n",
    "drop table if exists Faculties;\n",
    "CREATE TABLE Faculties\n",
    "(\n",
    "id integer primary key,\n",
    "name varchar(50)\n",
    ");\n",
    "\n",
    "drop table if exists Groups; \n",
    "Create table Groups\n",
    "(\n",
    "id integer primary key,\n",
    "name varchar(50)\n",
    ");\n",
    "\n",
    "drop table if exists Cities; \n",
    "Create table Cities\n",
    "(\n",
    "id integer primary key,\n",
    "name varchar(50)\n",
    ");\n",
    "\n",
    "CREATE TABLE Students \n",
    "(\n",
    "    student_id integer primary key, \n",
    "    Name varchar(50),\n",
    "    SecondName varchar(50), \n",
    "    Faculty_id integer,\n",
    "    City_id integer,\n",
    "    group_id integer,\n",
    "    GPA number,\n",
    "    foreign key(Faculty_id) references Faculties(id),\n",
    "    foreign key (city_id) references cities(id),\n",
    "    foreign key (group_id) references groups(id)\n",
    "    on update cascade\n",
    "    on delete cascade\n",
    ");\n",
    "\n"
   ]
  },
  {
   "cell_type": "markdown",
   "metadata": {},
   "source": [
    "## Задание 2\n",
    "Осуществить вставку во все таблицы с учетом правил на внешние ключи"
   ]
  },
  {
   "cell_type": "code",
   "execution_count": 33,
   "metadata": {},
   "outputs": [
    {
     "name": "stdout",
     "output_type": "stream",
     "text": [
      " * sqlite:///lab_2.db\n",
      "1 rows affected.\n",
      "1 rows affected.\n",
      "1 rows affected.\n",
      "1 rows affected.\n",
      "1 rows affected.\n",
      "1 rows affected.\n",
      "1 rows affected.\n",
      "1 rows affected.\n",
      "1 rows affected.\n",
      "1 rows affected.\n",
      "1 rows affected.\n",
      "1 rows affected.\n",
      "1 rows affected.\n",
      "1 rows affected.\n",
      "1 rows affected.\n",
      "1 rows affected.\n"
     ]
    },
    {
     "data": {
      "text/plain": [
       "[]"
      ]
     },
     "execution_count": 33,
     "metadata": {},
     "output_type": "execute_result"
    }
   ],
   "source": [
    "%%sql\n",
    "insert into Faculties(id, name) VALUES (1, 'KIB');\n",
    "insert into Faculties(id, name) VALUES (2, 'IT');\n",
    "insert into Faculties(id, name) VALUES (3, 'Economics');\n",
    "insert into Groups(id, name) VALUES (1, '101');\n",
    "insert into Groups(id, name) VALUES (2, '201');\n",
    "insert into Groups(id, name) VALUES (3, '202');\n",
    "insert into Groups(id, name) VALUES (4, '301');\n",
    "insert into Cities(id, name) VALUES (1, 'Moscow');\n",
    "insert into Cities(id, name) VALUES (2, 'Voronezh');\n",
    "insert into Students(student_id, Name, SecondName, Faculty_id, city_id, group_id, GPA) VALUES (1, 'Anton', 'Sidorov', 1, 1, 1, 3.5);\n",
    "insert into Students(student_id, Name, SecondName, Faculty_id, city_id, group_id, GPA) VALUES (2, 'Alexey', 'Petrov', 2, 2, 2, 3.3);\n",
    "insert into Students(student_id, Name, SecondName, Faculty_id, city_id, group_id, GPA) VALUES (3, 'Ivan', 'Meshkov', 1, 2, 1, 4.5);\n",
    "insert into Students(student_id, Name, SecondName, Faculty_id, city_id, group_id, GPA) VALUES (4, 'Elena', 'Kvitova', 3, 1, 4, 4.8);\n",
    "insert into Students(student_id, Name, SecondName, Faculty_id, city_id, group_id, GPA) VALUES (5, 'Darya', 'Salnikova', 2, 2, 3, 3.4);\n",
    "insert into Students(student_id, Name, SecondName, Faculty_id, city_id, group_id, GPA) VALUES (6, 'Boris', 'Ivanov', 1, 2, 1, 4);\n",
    "insert into Students(student_id, Name, SecondName, Faculty_id, city_id, group_id, GPA) VALUES (7, 'Alexander', 'Kapustin', 1, 2, 1, 3.9);"
   ]
  },
  {
   "cell_type": "markdown",
   "metadata": {},
   "source": [
    "## Задание 3\n",
    "Вывести Имя Студента, Название его факультета, группы и города проживания"
   ]
  },
  {
   "cell_type": "code",
   "execution_count": 25,
   "metadata": {},
   "outputs": [
    {
     "name": "stdout",
     "output_type": "stream",
     "text": [
      " * sqlite:///lab_2.db\n",
      "Done.\n"
     ]
    },
    {
     "data": {
      "text/html": [
       "<table>\n",
       "    <tr>\n",
       "        <th>Name</th>\n",
       "        <th>Faculty</th>\n",
       "        <th>group_number</th>\n",
       "        <th>City</th>\n",
       "    </tr>\n",
       "    <tr>\n",
       "        <td>Anton</td>\n",
       "        <td>KIB</td>\n",
       "        <td>101</td>\n",
       "        <td>Moscow</td>\n",
       "    </tr>\n",
       "    <tr>\n",
       "        <td>Alexey</td>\n",
       "        <td>IT</td>\n",
       "        <td>201</td>\n",
       "        <td>Voronezh</td>\n",
       "    </tr>\n",
       "    <tr>\n",
       "        <td>Ivan</td>\n",
       "        <td>KIB</td>\n",
       "        <td>101</td>\n",
       "        <td>Voronezh</td>\n",
       "    </tr>\n",
       "    <tr>\n",
       "        <td>Elena</td>\n",
       "        <td>Economics</td>\n",
       "        <td>301</td>\n",
       "        <td>Moscow</td>\n",
       "    </tr>\n",
       "    <tr>\n",
       "        <td>Darya</td>\n",
       "        <td>IT</td>\n",
       "        <td>202</td>\n",
       "        <td>Voronezh</td>\n",
       "    </tr>\n",
       "    <tr>\n",
       "        <td>Boris</td>\n",
       "        <td>KIB</td>\n",
       "        <td>101</td>\n",
       "        <td>Moscow</td>\n",
       "    </tr>\n",
       "    <tr>\n",
       "        <td>Alexander</td>\n",
       "        <td>KIB</td>\n",
       "        <td>101</td>\n",
       "        <td>Moscow</td>\n",
       "    </tr>\n",
       "</table>"
      ],
      "text/plain": [
       "[('Anton', 'KIB', '101', 'Moscow'),\n",
       " ('Alexey', 'IT', '201', 'Voronezh'),\n",
       " ('Ivan', 'KIB', '101', 'Voronezh'),\n",
       " ('Elena', 'Economics', '301', 'Moscow'),\n",
       " ('Darya', 'IT', '202', 'Voronezh'),\n",
       " ('Boris', 'KIB', '101', 'Moscow'),\n",
       " ('Alexander', 'KIB', '101', 'Moscow')]"
      ]
     },
     "execution_count": 25,
     "metadata": {},
     "output_type": "execute_result"
    }
   ],
   "source": [
    "%%sql\n",
    "select Students.name, faculties.name as Faculty, groups.name as group_number, Cities.name as City\n",
    "from students, faculties, groups, cities\n",
    "where Students.Faculty_id = faculties.id and Students.group_id = groups.id and Students.City_id = cities.id;"
   ]
  },
  {
   "cell_type": "markdown",
   "metadata": {},
   "source": [
    "## Задание 4\n",
    "Вывести имена всех студентов, обучающихся на факультет IT из Воронежа."
   ]
  },
  {
   "cell_type": "code",
   "execution_count": 35,
   "metadata": {},
   "outputs": [
    {
     "name": "stdout",
     "output_type": "stream",
     "text": [
      " * sqlite:///lab_2.db\n",
      "Done.\n"
     ]
    },
    {
     "data": {
      "text/html": [
       "<table>\n",
       "    <tr>\n",
       "        <th>Name</th>\n",
       "    </tr>\n",
       "    <tr>\n",
       "        <td>Alexey</td>\n",
       "    </tr>\n",
       "    <tr>\n",
       "        <td>Darya</td>\n",
       "    </tr>\n",
       "</table>"
      ],
      "text/plain": [
       "[('Alexey',), ('Darya',)]"
      ]
     },
     "execution_count": 35,
     "metadata": {},
     "output_type": "execute_result"
    }
   ],
   "source": [
    "%%sql\n",
    "select Students.name\n",
    "from students, faculties, cities\n",
    "where cities.name = 'Voronezh' and faculties.name = 'IT' and Students.Faculty_id = faculties.id and Students.City_id = cities.id;"
   ]
  },
  {
   "cell_type": "markdown",
   "metadata": {},
   "source": [
    "## Задание 5\n",
    "Для всевозможных пар (Факультет, Город) вывести количество студентов, соответствующее данной группе"
   ]
  },
  {
   "cell_type": "code",
   "execution_count": 27,
   "metadata": {},
   "outputs": [
    {
     "name": "stdout",
     "output_type": "stream",
     "text": [
      " * sqlite:///lab_2.db\n",
      "Done.\n"
     ]
    },
    {
     "data": {
      "text/html": [
       "<table>\n",
       "    <tr>\n",
       "        <th>faculty</th>\n",
       "        <th>city</th>\n",
       "        <th>amt</th>\n",
       "    </tr>\n",
       "    <tr>\n",
       "        <td>Economics</td>\n",
       "        <td>Moscow</td>\n",
       "        <td>3</td>\n",
       "    </tr>\n",
       "    <tr>\n",
       "        <td>Economics</td>\n",
       "        <td>Voronezh</td>\n",
       "        <td>2</td>\n",
       "    </tr>\n",
       "    <tr>\n",
       "        <td>IT</td>\n",
       "        <td>Moscow</td>\n",
       "        <td>3</td>\n",
       "    </tr>\n",
       "    <tr>\n",
       "        <td>IT</td>\n",
       "        <td>Voronezh</td>\n",
       "        <td>2</td>\n",
       "    </tr>\n",
       "    <tr>\n",
       "        <td>KIB</td>\n",
       "        <td>Moscow</td>\n",
       "        <td>3</td>\n",
       "    </tr>\n",
       "    <tr>\n",
       "        <td>KIB</td>\n",
       "        <td>Voronezh</td>\n",
       "        <td>2</td>\n",
       "    </tr>\n",
       "</table>"
      ],
      "text/plain": [
       "[('Economics', 'Moscow', 3),\n",
       " ('Economics', 'Voronezh', 2),\n",
       " ('IT', 'Moscow', 3),\n",
       " ('IT', 'Voronezh', 2),\n",
       " ('KIB', 'Moscow', 3),\n",
       " ('KIB', 'Voronezh', 2)]"
      ]
     },
     "execution_count": 27,
     "metadata": {},
     "output_type": "execute_result"
    }
   ],
   "source": [
    "%%sql\n",
    "select faculties.name as faculty, cities.name as city, count(students.student_id) as amt\n",
    "from students, faculties, cities\n",
    "where students.faculty_id = cities.id and students.city_id = cities.id\n",
    "group by faculties.name, cities.name"
   ]
  },
  {
   "cell_type": "markdown",
   "metadata": {},
   "source": [
    "## Задание 6 \n",
    "Для всех групп вывести средний балл по группе для студентов, не проживающих в Москве, при условии, что количество таких студентов не менее 3 "
   ]
  },
  {
   "cell_type": "code",
   "execution_count": 34,
   "metadata": {},
   "outputs": [
    {
     "name": "stdout",
     "output_type": "stream",
     "text": [
      " * sqlite:///lab_2.db\n",
      "Done.\n"
     ]
    },
    {
     "data": {
      "text/html": [
       "<table>\n",
       "    <tr>\n",
       "        <th>group_number</th>\n",
       "        <th>avg_gpa</th>\n",
       "    </tr>\n",
       "    <tr>\n",
       "        <td>101</td>\n",
       "        <td>4.133333333333334</td>\n",
       "    </tr>\n",
       "</table>"
      ],
      "text/plain": [
       "[('101', 4.133333333333334)]"
      ]
     },
     "execution_count": 34,
     "metadata": {},
     "output_type": "execute_result"
    }
   ],
   "source": [
    "%%sql\n",
    "select group_number, avg_gpa\n",
    "from\n",
    "(select groups.name as group_number, avg(GPA) as avg_gpa, count(students.student_id) as count\n",
    "from students, cities, groups\n",
    "where cities.name != 'Moscow' and students.group_id = groups.id and students.city_id = cities.id\n",
    "group by groups.name)t\n",
    "where count >= 3 "
   ]
  }
 ],
 "metadata": {
  "kernelspec": {
   "display_name": "Python 3",
   "language": "python",
   "name": "python3"
  },
  "language_info": {
   "codemirror_mode": {
    "name": "ipython",
    "version": 3
   },
   "file_extension": ".py",
   "mimetype": "text/x-python",
   "name": "python",
   "nbconvert_exporter": "python",
   "pygments_lexer": "ipython3",
   "version": "3.7.0"
  }
 },
 "nbformat": 4,
 "nbformat_minor": 2
}
